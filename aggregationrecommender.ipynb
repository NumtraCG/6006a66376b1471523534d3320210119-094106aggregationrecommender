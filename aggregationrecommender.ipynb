{
 "cells": [
  {
   "cell_type": "markdown",
   "metadata": {},
   "source": [
    "***GENERATED CODE FOR aggregationrecommender PIPELINE.***"
   ]
  },
  {
   "cell_type": "markdown",
   "metadata": {},
   "source": [
    "***DON'T EDIT THIS CODE.***"
   ]
  },
  {
   "cell_type": "markdown",
   "metadata": {},
   "source": [
    "***CONNECTOR FUNCTIONS TO READ DATA.***"
   ]
  },
  {
   "cell_type": "code",
   "execution_count": null,
   "metadata": {},
   "outputs": [],
   "source": [
    "import datetime\n",
    "import logging\n",
    "import warnings\n",
    "warnings.filterwarnings('ignore')\n",
    "logging.basicConfig(format='%(levelname)s:%(message)s', level=logging.INFO)\n",
    "\n",
    "\n",
    "class HDFSConnector:\n",
    "\n",
    "    def fetch(spark, config):\n",
    "        df = spark.read.\\\n",
    "            options(header='true' if eval(config)[\"is_header\"] == \"Use Header Line\" else 'false',\n",
    "                    inferschema='true',\n",
    "                    delimiter=eval(config)[\"delimiter\"])\\\n",
    "            .csv(\"hdfs://34.83.203.43:54310\"+eval(config)['url'])\n",
    "        display(df.limit(2).toPandas())\n",
    "        return df\n",
    "\n",
    "    def put(df, spark, config):\n",
    "        return df.write.format('csv').options(header='true' if eval(config)[\"is_header\"] == \"Use Header Line\" else 'false',\n",
    "                                              delimiter=eval(config)[\"delimiter\"]).save((\"%s %s\") % (datetime.datetime.now().strftime(\"%Y-%m-%d %H.%M.%S\")+\"_\", eval(config)['url']))\n"
   ]
  },
  {
   "cell_type": "markdown",
   "metadata": {},
   "source": [
    "***OPERATION FUNCTIONS***"
   ]
  },
  {
   "cell_type": "code",
   "execution_count": null,
   "metadata": {},
   "outputs": [],
   "source": []
  },
  {
   "cell_type": "markdown",
   "metadata": {},
   "source": [
    "***TRANSFORMATIONS FUNCTIONS THAT WILL BE APPLIED ON DATA***"
   ]
  },
  {
   "cell_type": "code",
   "execution_count": null,
   "metadata": {},
   "outputs": [],
   "source": [
    "import json\n",
    "from pyspark.sql.functions import col, when\n",
    "from pyspark.sql.functions import mean, stddev, min, max, col\n",
    "\n",
    "\n",
    "class CleanseData:\n",
    "    # def __init__(self,df):\n",
    "    #     #print()\n",
    "\n",
    "    def replaceByMean(self, feature, df, mean_=-1):\n",
    "\n",
    "        meanValue = df.select(mean(col(feature.name)).alias(\n",
    "            'mean')).collect()[0][\"mean\"]\n",
    "        df.fillna(meanValue, subset=[feature.name])\n",
    "        df.withColumn(feature.name, when(col(feature.name) == \" \",\n",
    "                                         meanValue).otherwise(col(feature.name).cast(\"Integer\")))\n",
    "        return df\n",
    "\n",
    "    def replaceByMax(self, feature, df, max_=-1):\n",
    "        maxValue = df.select(max(col(feature.name)).alias('max')).collect()[\n",
    "            0][\"max\"]\n",
    "        df.fillna(maxValue, subset=[feature.name])\n",
    "        df = df.withColumn(feature.name,\n",
    "                           when(col(feature.name) == \" \", maxValue).otherwise(col(feature.name)))\n",
    "        return df\n",
    "\n",
    "    def replaceByMin(self, feature, df, min_=-1):\n",
    "        minValue = df.select(min(col(feature.name)).alias('min')).collect()[\n",
    "            0][\"min\"]\n",
    "        df.fillna(minValue, subset=[feature.name])\n",
    "        df = df.withColumn(feature.name,\n",
    "                           when(col(feature.name) == \" \", minValue).otherwise(col(feature.name)))\n",
    "        return df\n",
    "\n",
    "    def replaceByStandardDeviation(self, feature, df, stddev_=-1):\n",
    "        stddevValue = df.select(stddev(col(feature.name)).alias(\n",
    "            'stddev')).collect()[0][\"stddev\"]\n",
    "        df.fillna(stddevValue, subset=[feature.name])\n",
    "        df = df.withColumn(feature.name,\n",
    "                           when(col(feature.name) == \" \", stddevValue).otherwise(col(feature.name)))\n",
    "        return df\n",
    "\n",
    "    def replaceDateRandomly(self, feature, df):\n",
    "        fillValue = df.where(col(feature.name).isNotNull()\n",
    "                             ).head(1)[0][feature.name]\n",
    "        df.fillna(str(fillValue), subset=[feature.name])\n",
    "        df = df.withColumn(feature.name,\n",
    "                           when(col(feature.name) == \" \", fillValue).otherwise(col(feature.name)))\n",
    "        # print(\"CleanseData:replaceDateRandomly Schema : \", df.#printSchema())\n",
    "        return df\n",
    "\n",
    "    def replaceNullValues(self, fList, df):\n",
    "        featuresList = df.schema.fields\n",
    "        for featureObj in fList:\n",
    "            for feat in featuresList:\n",
    "                if featureObj[\"feature\"] in feat.name:\n",
    "                    featureName = feat\n",
    "                    if \"mean\" in featureObj[\"replaceby\"]:\n",
    "                        df = self.replaceByMean(featureName, df)\n",
    "                    elif \"max\" in featureObj[\"replaceby\"]:\n",
    "                        df = self.replaceByMax(featureName, df)\n",
    "                    elif \"min\" in featureObj[\"replaceby\"]:\n",
    "                        df = self.replaceByMin(featureName, df)\n",
    "                    elif \"stddev\" in featureObj[\"replaceby\"]:\n",
    "                        df = self.replaceByStandardDeviation(featureName, df)\n",
    "                    elif \"random\" in featureObj[\"replaceby\"]:\n",
    "                        df = self.replaceDateRandomly(featureName, df)\n",
    "        return df\n",
    "\n",
    "\n",
    "class TransformationMain:\n",
    "    # TODO: change df argument in run with following\n",
    "    def run(transformationDF, config):\n",
    "        configObj = json.loads(config)\n",
    "        featureData = configObj[\"FE\"]\n",
    "        transformationDF = CleanseData().replaceNullValues(featureData, transformationDF)\n",
    "        display(transformationDF.limit(2).toPandas())\n",
    "        return transformationDF\n"
   ]
  },
  {
   "cell_type": "markdown",
   "metadata": {},
   "source": [
    "***AUTOML FUNCTIONS***"
   ]
  },
  {
   "cell_type": "code",
   "execution_count": null,
   "metadata": {},
   "outputs": [],
   "source": [
    "import json\n",
    "import pandas as pd\n",
    "from scipy.sparse import csr_matrix\n",
    "from lightfm import LightFM\n",
    "import numpy as np\n",
    "\n",
    "\n",
    "def sparseMatrix(df, user, product, rating):\n",
    "    df_selected = df[[user, product, rating]]\n",
    "    user_df = pd.pivot_table(df_selected, index=user,\n",
    "                             columns=product, values=rating)\n",
    "    # fill missing values with 0\n",
    "    user_df = user_df.fillna(0)\n",
    "    user_id = list(user_df.index)\n",
    "    user_dict = {}\n",
    "    counter = 0\n",
    "    for i in user_id:\n",
    "        user_dict[i] = counter\n",
    "        counter += 1\n",
    "    # convert to csr matrix\n",
    "    user_df_csr = csr_matrix(user_df.values)\n",
    "    return user_df, user_df_csr, user_id, user_dict\n",
    "\n",
    "\n",
    "def recommenderModel(user_df_csr):\n",
    "    model = LightFM()\n",
    "    model = model.fit(user_df_csr)\n",
    "    return model\n",
    "\n",
    "\n",
    "def recommendPredict(model, interactions, user_id, user_dict, threshold=0, nrec_items=10, show=True):\n",
    "    n_users, n_items = interactions.shape\n",
    "    user_x = user_dict[user_id]\n",
    "    scores = pd.Series(model.predict(user_x, np.arange(n_items)))\n",
    "    scores.index = interactions.columns\n",
    "    scores = list(pd.Series(scores.sort_values(ascending=False).index))\n",
    "\n",
    "    known_items = list(pd.Series(interactions.loc[user_id, :]\n",
    "                                 [interactions.loc[user_id, :] > threshold].index).sort_values(ascending=False))\n",
    "\n",
    "    scores = [x for x in scores if x not in known_items]\n",
    "    return_score_list = scores[0:nrec_items]\n",
    "    known_items = list(pd.Series(known_items))\n",
    "    scores = list(pd.Series(return_score_list))\n",
    "    known_likes = {}\n",
    "    recommend_dict = []\n",
    "    counter = 1\n",
    "    for i in known_items:\n",
    "        known_likes[counter] = i\n",
    "        counter += 1\n",
    "    counter = 1\n",
    "    for i in scores:\n",
    "        recommend_dict.append(i)\n",
    "        counter += 1\n",
    "\n",
    "    if show == True:\n",
    "        print(\"User: \" + str(user_id))\n",
    "        print(\"Known Likes:\")\n",
    "        counter = 1\n",
    "        for i in known_items:\n",
    "            print(str(counter) + '- ' + str(i))\n",
    "            counter += 1\n",
    "        print(\"\\n Recommended Items:\")\n",
    "        counter = 1\n",
    "        for i in scores:\n",
    "            print(str(counter) + '- ' + str(i))\n",
    "            counter += 1\n",
    "    return known_likes, recommend_dict\n",
    "\n",
    "\n",
    "def recommend(df, originalfile, user, product, rating):\n",
    "    df = df.toPandas()\n",
    "    total_user = df[user].to_list()\n",
    "    user_df, user_df_csr, user_id, user_dict = sparseMatrix(\n",
    "        df, user, product, rating)\n",
    "    model = recommenderModel(user_df_csr)\n",
    "    recommend_dict_all = []\n",
    "    for us in total_user:\n",
    "        recommend_obj = {}\n",
    "        known_likes, recommend_dict = recommendPredict(\n",
    "            model, user_df, us, user_dict, threshold=0, nrec_items=20, show=False)\n",
    "        recommend_obj[\"recommendedOn\"] = us\n",
    "        recommend_obj[\"recomendations\"] = recommend_dict\n",
    "        recommend_dict_all.append(recommend_obj)\n",
    "        display(recommend_dict_all)\n",
    "    return recommend_dict_all\n",
    "\n",
    "\n",
    "class Recommender:\n",
    "\n",
    "    def run(spark_DF, spark, config):\n",
    "        stageAttributes = json.loads(config)\n",
    "        stageAttributes['model']\n",
    "        stageAttributes['user']\n",
    "        stageAttributes['product']\n",
    "        stageAttributes['rating']\n",
    "        recommender_obj = recommend(df=spark_DF)\n",
    "        [recommender_obj]\n"
   ]
  },
  {
   "cell_type": "markdown",
   "metadata": {},
   "source": [
    "***READING DATAFRAME***"
   ]
  },
  {
   "cell_type": "code",
   "execution_count": null,
   "metadata": {},
   "outputs": [],
   "source": [
    "#%run aggregationrecommenderHooks.ipynb\n",
    "try:\n",
    "\t#sourcePreExecutionHook()\n",
    "\n",
    "\thotelrecommendationstrain = HDFSConnector.fetch(spark, \"{'url': '/FileStore/platform/demo/Hotel_Recommendations_train.csv', 'filename': 'Hotel_Recommendations_train.csv', 'delimiter': ',', 'file_type': 'Delimeted', 'is_header': 'Use Header Line'}\")\n",
    "\t#sourcePostExecutionHook(hotelrecommendationstrain)\n",
    "\n",
    "except Exception as ex: \n",
    "\tlogging.error(ex)\n"
   ]
  },
  {
   "cell_type": "markdown",
   "metadata": {},
   "source": [
    "***PERFORMING OPERATIONS***"
   ]
  },
  {
   "cell_type": "code",
   "execution_count": null,
   "metadata": {},
   "outputs": [],
   "source": [
    "#%run aggregationrecommenderHooks.ipynb\n",
    "try:\n",
    "\taggregation = AggregationOperation.run([\"6006a6ed76b1471523534d34\"],{\"6006a6ed76b1471523534d34\": hotelrecommendationstrain}, \"6006a6f176b1471523534d35\", spark, \"{'dataType': 'real', 'dataTypes': ['String', 'real', 'numeric'], 'url': '/FileStore/platform/demo/Hotel_Recommendations_train.csv', 'SelectedColumns': [{'columnName': 'shopping_mall', 'type': 'real', 'disable': False}, {'columnName': 'convenience_store', 'type': 'real', 'disable': False}], 'functionData': {'functionName': 'aggregate', 'applyOn': [{'columnName': 'shopping_mall', 'type': 'real', 'disable': False}, {'columnName': 'convenience_store', 'type': 'real', 'disable': False}], 'functionsData': [{'aggregateFunction': 'sum', 'aggregateOn': [{'columnName': 'shopping_mall', 'type': 'real', 'disable': False}, {'columnName': 'convenience_store', 'type': 'real', 'disable': False}], 'groupOn': [{'columnName': 'shopping_mall', 'type': 'real', 'disable': False}, {'columnName': 'convenience_store', 'type': 'real', 'disable': False}]}]}, 'allColumns': [{'columnName': 'user_id', 'type': 'String', 'disable': True}, {'columnName': 'hotel_name', 'type': 'String', 'disable': True}, {'columnName': 'rating', 'type': 'real', 'disable': False}, {'columnName': 'price', 'type': 'numeric', 'disable': True}, {'columnName': 'near_station', 'type': 'real', 'disable': False}, {'columnName': 'restaurant', 'type': 'real', 'disable': False}, {'columnName': 'entertain', 'type': 'real', 'disable': False}, {'columnName': 'shopping_mall', 'type': 'real', 'disable': False}, {'columnName': 'convenience_store', 'type': 'real', 'disable': False}, {'columnName': 'trip_type', 'type': 'String', 'disable': True}, {'columnName': 'companion', 'type': 'String', 'disable': True}, {'columnName': 'destination', 'type': 'String', 'disable': True}]}\")\n",
    "\n",
    "except Exception as ex: \n",
    "\tlogging.error(ex)\n"
   ]
  },
  {
   "cell_type": "markdown",
   "metadata": {},
   "source": [
    "***TRANSFORMING DATAFRAME***"
   ]
  },
  {
   "cell_type": "code",
   "execution_count": null,
   "metadata": {},
   "outputs": [],
   "source": [
    "#%run aggregationrecommenderHooks.ipynb\n",
    "try:\n",
    "\t#transformationPreExecutionHook()\n",
    "\n",
    "\tautofe = TransformationMain.run(aggregation,json.dumps( {\"FE\": [{\"transformationsData\": [{\"feature_label\": \"user_id\", \"transformation_label\": \"novalue\"}], \"feature\": \"user_id\", \"type\": \"string\", \"selected\": \"True\", \"replaceby\": \"max\", \"stats\": {\"count\": \"84\", \"mean\": \"\", \"stddev\": \"\", \"min\": \"user1\", \"max\": \"user9\", \"missing\": \"0\"}, \"transformation\": [{\"transformation\": \"novalue\", \"selectedAsDefault\": 1}], \"updatedLabel\": \"user_id\"}, {\"transformationsData\": [{\"feature_label\": \"hotel_name\", \"transformation_label\": \"novalue\"}], \"feature\": \"hotel_name\", \"type\": \"string\", \"selected\": \"True\", \"replaceby\": \"max\", \"stats\": {\"count\": \"84\", \"mean\": \"\", \"stddev\": \"\", \"min\": \"128 Bangkok\", \"max\": \"Yoo Yen Pen Sook\", \"missing\": \"0\"}, \"transformation\": [{\"transformation\": \"novalue\", \"selectedAsDefault\": 1}], \"updatedLabel\": \"hotel_name\"}, {\"transformationsData\": [{\"transformation_label\": \"novalue\"}], \"feature\": \"rating\", \"type\": \"real\", \"selected\": \"True\", \"replaceby\": \"mean\", \"stats\": {\"count\": \"84\", \"mean\": \"8.67\", \"stddev\": \"0.48\", \"min\": \"7.0\", \"max\": \"9.0\", \"missing\": \"0\"}, \"transformation\": [{\"transformation\": \"novalue\", \"selectedAsDefault\": 1}], \"updatedLabel\": \"rating\"}, {\"transformationsData\": [{\"transformation_label\": \"novalue\"}], \"feature\": \"price\", \"transformation\": [{\"transformation\": \"novalue\", \"selectedAsDefault\": 1}], \"type\": \"numeric\", \"replaceby\": \"mean\", \"selected\": \"True\", \"stats\": {\"count\": \"84\", \"mean\": \"2740.27\", \"stddev\": \"2168.08\", \"min\": \"280\", \"max\": \"9534\", \"missing\": \"0\"}, \"updatedLabel\": \"price\"}, {\"transformationsData\": [{\"transformation_label\": \"novalue\"}], \"feature\": \"near_station\", \"type\": \"real\", \"selected\": \"True\", \"replaceby\": \"mean\", \"stats\": {\"count\": \"84\", \"mean\": \"0.19\", \"stddev\": \"0.09\", \"min\": \"0.0\", \"max\": \"0.390243902\", \"missing\": \"0\"}, \"transformation\": [{\"transformation\": \"novalue\", \"selectedAsDefault\": 1}], \"updatedLabel\": \"near_station\"}, {\"transformationsData\": [{\"transformation_label\": \"novalue\"}], \"feature\": \"restaurant\", \"type\": \"real\", \"selected\": \"True\", \"replaceby\": \"mean\", \"stats\": {\"count\": \"84\", \"mean\": \"0.36\", \"stddev\": \"0.14\", \"min\": \"0.2\", \"max\": \"0.8\", \"missing\": \"0\"}, \"transformation\": [{\"transformation\": \"novalue\", \"selectedAsDefault\": 1}], \"updatedLabel\": \"restaurant\"}, {\"transformationsData\": [{\"transformation_label\": \"novalue\"}], \"feature\": \"entertain\", \"type\": \"real\", \"selected\": \"True\", \"replaceby\": \"mean\", \"stats\": {\"count\": \"84\", \"mean\": \"0.12\", \"stddev\": \"0.08\", \"min\": \"0.0\", \"max\": \"0.289855072\", \"missing\": \"0\"}, \"transformation\": [{\"transformation\": \"novalue\", \"selectedAsDefault\": 1}], \"updatedLabel\": \"entertain\"}, {\"transformationsData\": [{\"transformation_label\": \"novalue\"}], \"feature\": \"shopping_mall\", \"type\": \"real\", \"selected\": \"True\", \"replaceby\": \"mean\", \"stats\": {\"count\": \"84\", \"mean\": \"0.13\", \"stddev\": \"0.08\", \"min\": \"0.0\", \"max\": \"0.350877193\", \"missing\": \"0\"}, \"transformation\": [{\"transformation\": \"novalue\", \"selectedAsDefault\": 1}], \"updatedLabel\": \"shopping_mall\"}, {\"transformationsData\": [{\"transformation_label\": \"novalue\"}], \"feature\": \"convenience_store\", \"type\": \"real\", \"selected\": \"True\", \"replaceby\": \"mean\", \"stats\": {\"count\": \"84\", \"mean\": \"0.19\", \"stddev\": \"0.08\", \"min\": \"0.0\", \"max\": \"0.6\", \"missing\": \"0\"}, \"transformation\": [{\"transformation\": \"novalue\", \"selectedAsDefault\": 1}], \"updatedLabel\": \"convenience_store\"}, {\"transformationsData\": [{\"feature_label\": \"trip_type\", \"transformation_label\": \"novalue\"}], \"feature\": \"trip_type\", \"type\": \"string\", \"selected\": \"True\", \"replaceby\": \"max\", \"stats\": {\"count\": \"84\", \"mean\": \"\", \"stddev\": \"\", \"min\": \"business\", \"max\": \"leisure\", \"missing\": \"0\"}, \"transformation\": [{\"transformation\": \"novalue\", \"selectedAsDefault\": 1}], \"updatedLabel\": \"trip_type\"}, {\"transformationsData\": [{\"feature_label\": \"companion\", \"transformation_label\": \"novalue\"}], \"feature\": \"companion\", \"type\": \"string\", \"selected\": \"True\", \"replaceby\": \"max\", \"stats\": {\"count\": \"84\", \"mean\": \"\", \"stddev\": \"\", \"min\": \"couple\", \"max\": \"solo\", \"missing\": \"0\"}, \"transformation\": [{\"transformation\": \"novalue\", \"selectedAsDefault\": 1}], \"updatedLabel\": \"companion\"}, {\"transformationsData\": [{\"feature_label\": \"destination\", \"transformation_label\": \"novalue\"}], \"feature\": \"destination\", \"type\": \"string\", \"selected\": \"True\", \"replaceby\": \"max\", \"stats\": {\"count\": \"84\", \"mean\": \"\", \"stddev\": \"\", \"min\": \"bangkok\", \"max\": \"bangkok\", \"missing\": \"0\"}, \"transformation\": [{\"transformation\": \"novalue\", \"selectedAsDefault\": 1}], \"updatedLabel\": \"destination\"}]}))\n",
    "\n",
    "\t#transformationPostExecutionHook(autofe)\n",
    "\n",
    "except Exception as ex: \n",
    "\tlogging.error(ex)\n"
   ]
  },
  {
   "cell_type": "markdown",
   "metadata": {},
   "source": [
    "***TRAIN MODEL***"
   ]
  },
  {
   "cell_type": "code",
   "execution_count": null,
   "metadata": {},
   "outputs": [],
   "source": [
    "#%run aggregationrecommenderHooks.ipynb\n",
    "try:\n",
    "\t#mlPreExecutionHook()\n",
    "\n",
    "\trecommendationsautoml = Recommender.run(autofe,spark,json.dumps( {\"model\": \"LightFm\", \"autorecommend\": 1, \"rating\": \"rating\", \"user\": \"user_id\", \"product\": \"hotel_name\", \"originalfile\": \"/FileStore/platform/demo/Hotel_Recommendations_train.csv\"}))\n",
    "\n",
    "\t#mlPostExecutionHook(recommendationsautoml)\n",
    "\n",
    "except Exception as ex: \n",
    "\tlogging.error(ex)\n"
   ]
  }
 ],
 "metadata": {},
 "nbformat": 4,
 "nbformat_minor": 4
}
